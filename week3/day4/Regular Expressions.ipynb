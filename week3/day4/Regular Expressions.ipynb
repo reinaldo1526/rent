{
 "cells": [
  {
   "cell_type": "markdown",
   "metadata": {},
   "source": [
    "Click <a href='https://www.dataquest.io/blog/web-scraping-tutorial-python/'>here</a> to learn about Regular Expressions (RegEx) using Python."
   ]
  },
  {
   "cell_type": "code",
   "execution_count": null,
   "metadata": {},
   "outputs": [],
   "source": [
    "########################\n",
    "# DO NOT RUN THIS CELL #\n",
    "########################\n",
    "\n",
    "a, X, 9, < -- ordinary characters just match themselves exactly.\n",
    ". (a period) -- matches any single character except newline '\\n'\n",
    "\\w -- matches a \"word\" character: a letter or digit or underbar [a-zA-Z0-9_].\n",
    "\\W -- matches any non-word character.\n",
    "\\b -- matches word boundary (in between a word character and a non word character)\n",
    "\\s -- matches a single whitespace character -- space, newline, return, tab\n",
    "\\S -- matches any non-whitespace character.\n",
    "\\t, \\n, \\r -- tab, newline, return\n",
    "\\d -- matches any numeric digit [0-9]\n",
    "\\D matches any non-numeric character.\n",
    "^ -- matches the beginning of the string, or specify omition of certain characters\n",
    "$ -- matches the end of the string\n",
    "\\ -- escapes special character.\n",
    "(x|y|z) matches exactly one of x, y or z.\n",
    "(x) in general is a remembered group. We can get the value of what matched by using the groups() method of the object returned by re.search.\n",
    "x? matches an optional x character (in other words, it matches an x zero or one times).\n",
    "x* matches x zero or more times.\n",
    "x+ matches x one or more times.\n",
    "x{m,n} matches an x character at least m times, but not more than n times.\n",
    "?: matches an expression but do not capture it. Non capturing group.\n",
    "?= matches a suffix but exclude it from capture. Positive lookahead.\n",
    "a(?=b) will match the \"a\" in \"ab\", but not the \"a\" in \"ac\"\n",
    "In other words, a(?=b) matches the \"a\" which is followed by the string 'b', without consuming what follows the a.\n",
    "?! matches if suffix is absent. Negative look ahead.\n",
    "a(?!b) will match the \"a\" in \"ac\", but not the \"a\" in \"ab\"\n",
    "?<= positive look behind\n",
    "[] matches for groupings of consecutive characters\n",
    "?<! negative look behind\n",
    "\n",
    "########################\n",
    "# DO NOT RUN THIS CELL #\n",
    "########################"
   ]
  },
  {
   "cell_type": "code",
   "execution_count": 14,
   "metadata": {},
   "outputs": [
    {
     "data": {
      "text/plain": [
       "''"
      ]
     },
     "execution_count": 14,
     "metadata": {},
     "output_type": "execute_result"
    }
   ],
   "source": [
    "import re\n",
    "\n",
    "file = open(\"names.txt\", encoding= 'utf-8')\n",
    "data= file.read()\n",
    "file.read()"
   ]
  },
  {
   "cell_type": "code",
   "execution_count": 55,
   "metadata": {
    "scrolled": true
   },
   "outputs": [],
   "source": [
    "# .match() - Checks for specific strings starting from the beginning of a string\n",
    "re.match(r'Hawking',data)"
   ]
  },
  {
   "cell_type": "code",
   "execution_count": 56,
   "metadata": {
    "scrolled": true
   },
   "outputs": [],
   "source": [
    "# re.match(r\"Milliken\", data)\n",
    "re.match(r'Patel', data)"
   ]
  },
  {
   "cell_type": "code",
   "execution_count": 57,
   "metadata": {},
   "outputs": [
    {
     "data": {
      "text/plain": [
       "<re.Match object; span=(90, 98), match='Milliken'>"
      ]
     },
     "execution_count": 57,
     "metadata": {},
     "output_type": "execute_result"
    }
   ],
   "source": [
    "# .search() - Looks for FIRST matching string anywhere in the searchable text string\n",
    "re.search(r\"Milliken\", data)"
   ]
  },
  {
   "cell_type": "code",
   "execution_count": 24,
   "metadata": {
    "scrolled": true
   },
   "outputs": [
    {
     "data": {
      "text/plain": [
       "<re.Match object; span=(38, 52), match='(555) 555-5555'>"
      ]
     },
     "execution_count": 24,
     "metadata": {},
     "output_type": "execute_result"
    }
   ],
   "source": [
    "re.search(r\"\\(\\d\\d\\d\\) \\d\\d\\d-\\d\\d\\d\\d\", data)"
   ]
  },
  {
   "cell_type": "code",
   "execution_count": 22,
   "metadata": {
    "scrolled": true
   },
   "outputs": [
    {
     "data": {
      "text/plain": [
       "<re.Match object; span=(0, 2), match='Ha'>"
      ]
     },
     "execution_count": 22,
     "metadata": {},
     "output_type": "execute_result"
    }
   ],
   "source": [
    "re.search(r'\\w\\w', data)"
   ]
  },
  {
   "cell_type": "code",
   "execution_count": 23,
   "metadata": {
    "scrolled": true
   },
   "outputs": [
    {
     "data": {
      "text/plain": [
       "<re.Match object; span=(0, 14), match='Hawkins, Derek'>"
      ]
     },
     "execution_count": 23,
     "metadata": {},
     "output_type": "execute_result"
    }
   ],
   "source": [
    "re.search('\\w\\w\\w\\w\\w\\w\\w, \\w\\w\\w\\w\\w', data)"
   ]
  },
  {
   "cell_type": "code",
   "execution_count": 25,
   "metadata": {},
   "outputs": [
    {
     "data": {
      "text/plain": [
       "<re.Match object; span=(48, 52), match='5555'>"
      ]
     },
     "execution_count": 25,
     "metadata": {},
     "output_type": "execute_result"
    }
   ],
   "source": [
    "re.search(r\"\\d\"*4, data)"
   ]
  },
  {
   "cell_type": "markdown",
   "metadata": {},
   "source": [
    "<strong>Exercise 1</strong>:<br>\n",
    "Write a function that checks for n number of consecutive digits"
   ]
  },
  {
   "cell_type": "code",
   "execution_count": 27,
   "metadata": {},
   "outputs": [],
   "source": [
    "def find_digits(n, searchable_text):\n",
    "    return re.search(r'\\d'*n, searchable_text)\n",
    "\n",
    "find_digits(19,data)"
   ]
  },
  {
   "cell_type": "code",
   "execution_count": 5,
   "metadata": {},
   "outputs": [],
   "source": [
    "# find(4, data) => <re.Match object; span=(XX, XX), match='5555'>"
   ]
  },
  {
   "cell_type": "code",
   "execution_count": 29,
   "metadata": {
    "scrolled": true
   },
   "outputs": [
    {
     "data": {
      "text/plain": [
       "<re.Match object; span=(38, 52), match='(555) 555-5555'>"
      ]
     },
     "execution_count": 29,
     "metadata": {},
     "output_type": "execute_result"
    }
   ],
   "source": [
    "re.search(r'\\(\\d{3}\\) \\d{3}-\\d{4}', data)"
   ]
  },
  {
   "cell_type": "code",
   "execution_count": 31,
   "metadata": {},
   "outputs": [
    {
     "data": {
      "text/plain": [
       "['(555) 555-5555',\n",
       " '(555) 555-5554',\n",
       " '(555) 555-5543',\n",
       " '555-555-5552',\n",
       " '555 555-5551',\n",
       " '(555) 555-5553',\n",
       " '(555) 555-4444']"
      ]
     },
     "execution_count": 31,
     "metadata": {},
     "output_type": "execute_result"
    }
   ],
   "source": [
    "# .findall() - Looks for matching string anywhere in the searchable text string and stores each instance into a list\n",
    "re.findall(r'\\(?\\d{3}\\)?\\s?-?\\d{3}-\\d{4}', data)"
   ]
  },
  {
   "cell_type": "code",
   "execution_count": null,
   "metadata": {},
   "outputs": [],
   "source": [
    "re"
   ]
  },
  {
   "cell_type": "code",
   "execution_count": 33,
   "metadata": {},
   "outputs": [
    {
     "data": {
      "text/plain": [
       "['Hawkins, Derek',\n",
       " 'Teacher, Coding',\n",
       " 'Milliken, Connor',\n",
       " 'Teacher, Coding',\n",
       " 'Johnson, Joe',\n",
       " 'Carter, Joel',\n",
       " 'Österberg, Sven',\n",
       " 'Governor, Norrbotten',\n",
       " 'Enchanter, Killer',\n",
       " 'Butz, Ryan',\n",
       " 'CEO, Coding',\n",
       " 'Doctor, The',\n",
       " 'Lord, Gallifrey',\n",
       " 'Exampleson, Example',\n",
       " 'Example, Example',\n",
       " 'Obama, Barack',\n",
       " 'President, United',\n",
       " 'Patel, Ripal',\n",
       " 'Teacher, Coding',\n",
       " 'Vader, Darth',\n",
       " 'Lord, Galactic',\n",
       " 'Sanz, María',\n",
       " 'Minister, Spanish']"
      ]
     },
     "execution_count": 33,
     "metadata": {},
     "output_type": "execute_result"
    }
   ],
   "source": [
    "re.findall(r'\\w+, \\w+', data)"
   ]
  },
  {
   "cell_type": "code",
   "execution_count": 34,
   "metadata": {
    "scrolled": true
   },
   "outputs": [
    {
     "data": {
      "text/plain": [
       "['derek@codingtemple.com',\n",
       " 'connor@codingtemple.com',\n",
       " 'joejohnson@codingtemple.com',\n",
       " 'governor@norrbotten.co.se',\n",
       " 'tim@killerrabbit.com',\n",
       " 'ryanb@codingtemple.com',\n",
       " 'doctor+companion@tardis.co.uk',\n",
       " 'me@example.com',\n",
       " 'president.44@us.gov',\n",
       " 'ripalp@codingtemple.com',\n",
       " 'darth-vader@empire.gov',\n",
       " 'mtfvs@spain.gov']"
      ]
     },
     "execution_count": 34,
     "metadata": {},
     "output_type": "execute_result"
    }
   ],
   "source": [
    "re.findall(r'[a-zA-Z0-9_.+-]+@[a-zA-Z0-9-]+\\.[a-zA-Z0-9-.]+', data)"
   ]
  },
  {
   "cell_type": "code",
   "execution_count": 36,
   "metadata": {},
   "outputs": [
    {
     "data": {
      "text/plain": [
       "['derek@codingtemple.com',\n",
       " 'connor@codingtemple.com',\n",
       " 'joejohnson@codingtemple.com',\n",
       " 'governor@norrbotten.co.se',\n",
       " 'tim@killerrabbit.com',\n",
       " 'ryanb@codingtemple.com',\n",
       " 'doctor+companion@tardis.co.uk',\n",
       " 'me@example.com',\n",
       " '44@us.gov',\n",
       " 'ripalp@codingtemple.com',\n",
       " 'darth-vader@empire.gov',\n",
       " 'mtfvs@spain.gov']"
      ]
     },
     "execution_count": 36,
     "metadata": {},
     "output_type": "execute_result"
    }
   ],
   "source": [
    "re.findall(r'[-+\\w\\d]+@[-.\\w\\d]+', data)"
   ]
  },
  {
   "cell_type": "code",
   "execution_count": 37,
   "metadata": {},
   "outputs": [
    {
     "data": {
      "text/plain": [
       "['derek@codingtemple.com',\n",
       " 'connor@codingtemple.com',\n",
       " 'joejohnson@codingtemple.com',\n",
       " 'ryanb@codingtemple.com',\n",
       " 'ripalp@codingtemple.com']"
      ]
     },
     "execution_count": 37,
     "metadata": {},
     "output_type": "execute_result"
    }
   ],
   "source": [
    "re.findall(r'[-+.\\w\\d]+@[codingtemple]+.com', data)"
   ]
  },
  {
   "cell_type": "code",
   "execution_count": 39,
   "metadata": {},
   "outputs": [
    {
     "data": {
      "text/plain": [
       "['@codingtemple.com',\n",
       " '@codingtemple.com',\n",
       " '@codingtemple.com',\n",
       " '@norrbotten.co.se',\n",
       " '@killerrabbit.com',\n",
       " '@codingtemple.com',\n",
       " '@tardis.co.uk',\n",
       " '@example.com',\n",
       " '@us.',\n",
       " '@codingtemple.com',\n",
       " '@empire.',\n",
       " '@spain.']"
      ]
     },
     "execution_count": 39,
     "metadata": {},
     "output_type": "execute_result"
    }
   ],
   "source": [
    "# re.VERBOSE/re.X - Allows multiline regular expressions\n",
    "# re.IGNORECASE/re.I - Ignores casing\n",
    "re.findall(r\"\"\"\n",
    "   \\b@[-.\\w\\d]*     # word boundary, @ symbol and any number of characters\n",
    "    [^gov\\t]+       # exclude all instances of 'gov' or tap\n",
    "    \\b              #word boundaries\n",
    "\"\"\", data, re.X|re.I)"
   ]
  },
  {
   "cell_type": "code",
   "execution_count": 41,
   "metadata": {
    "scrolled": true
   },
   "outputs": [
    {
     "data": {
      "text/plain": [
       "['Hawkins, Derek',\n",
       " 'Teacher, Coding Temple',\n",
       " 'Milliken, Connor',\n",
       " 'Teacher, Coding Temple',\n",
       " 'Johnson, Joe',\n",
       " 'Carter, Joel',\n",
       " 'Österberg, Sven-Erik',\n",
       " 'Governor, Norrbotten',\n",
       " 'Enchanter, Killer Rabbit Cave',\n",
       " 'Butz, Ryan',\n",
       " 'CEO, Coding Temple',\n",
       " 'Doctor, The',\n",
       " 'Lord, Gallifrey',\n",
       " 'Exampleson, Example',\n",
       " 'Example, Example Co.',\n",
       " 'Obama, Barack',\n",
       " 'President, United States of America',\n",
       " 'Patel, Ripal',\n",
       " 'Teacher, Coding Temple',\n",
       " 'Vader, Darth',\n",
       " 'Lord, Galactic Empire',\n",
       " 'Sanz, María Teresa',\n",
       " 'Minister, Spanish Govt.']"
      ]
     },
     "execution_count": 41,
     "metadata": {},
     "output_type": "execute_result"
    }
   ],
   "source": [
    " re.findall(r'''\n",
    " \\b[-\\w]+,    #last name\n",
    " \\s           #one whitespace character\n",
    " [-\\w ]+      # 1 or more hyphens/word characters, spaces\n",
    " [^\\t\\n]      # omit tabs and newline character\n",
    " ''', data, re.X|re.I)"
   ]
  },
  {
   "cell_type": "code",
   "execution_count": 50,
   "metadata": {},
   "outputs": [
    {
     "data": {
      "text/plain": [
       "[('Hawkins, Derek',\n",
       "  'derek@codingtemple.com',\n",
       "  '(555) 555-5555',\n",
       "  'Teacher, Coding Temple',\n",
       "  '@derekhawkins'),\n",
       " ('Butz, Ryan',\n",
       "  'ryanb@codingtemple.com',\n",
       "  '(555) 555-5543',\n",
       "  'CEO, Coding Temple',\n",
       "  '@ryanbutz'),\n",
       " ('Obama, Barack',\n",
       "  'president.44@us.gov',\n",
       "  '555 555-5551',\n",
       "  'President, United States of America',\n",
       "  '@potus44'),\n",
       " ('Patel, Ripal',\n",
       "  'ripalp@codingtemple.com',\n",
       "  '(555) 555-5553',\n",
       "  'Teacher, Coding Temple',\n",
       "  '@ripalp'),\n",
       " ('Vader, Darth',\n",
       "  'darth-vader@empire.gov',\n",
       "  '(555) 555-4444',\n",
       "  'Sith Lord, Galactic Empire',\n",
       "  '@darthvader')]"
      ]
     },
     "execution_count": 50,
     "metadata": {},
     "output_type": "execute_result"
    }
   ],
   "source": [
    "info = re.findall(r'''\n",
    "  ^([-\\w]*,\\s[-\\w ]+)\\t               # last name, first name\n",
    "   ([-\\w\\d+.]+@[-\\w\\d+.]+)\\t          # email\n",
    "   (\\(?\\d{3}\\)?-?\\s?\\d{3}-\\d{4})\\t    # phone number\n",
    "   ([\\w\\s\\d]*,\\s[\\w\\d\\s,]*)\\t         # occupation and company\n",
    "   (@[\\w\\d]+)?$                       # Twitter handle\n",
    "\n",
    "''', data, re.X|re.I|re.M)\n",
    "\n",
    "info"
   ]
  },
  {
   "cell_type": "code",
   "execution_count": 8,
   "metadata": {},
   "outputs": [],
   "source": [
    "# [\n",
    "#     (First and last name,\n",
    "#      email, \n",
    "#      phone,\n",
    "#      title,\n",
    "#      Twitter handle)\n",
    "# ]\n"
   ]
  },
  {
   "cell_type": "code",
   "execution_count": 58,
   "metadata": {},
   "outputs": [],
   "source": [
    "info = re.compile(r'''\n",
    "     ^(?P<name>[-\\w]*,\\s[-\\w ]+)\\t            #last name, first name\n",
    "    (?P<email>[-\\w\\d+.]+@[-\\w\\d+.]+)\\t        #email\n",
    "    (?P<phone>\\(?\\d{3}\\)?-?\\s?\\d{3}-\\d{4})\\t  #phone number\n",
    "    (?P<job>[\\w\\s\\d]*,\\s[\\w\\d\\s,]*)\\t       #occupation and company\n",
    "    (?P<twitter>@[\\w\\d]+)?$  #Twitter handle\n",
    "''', re.X|re.I|re.M)"
   ]
  },
  {
   "cell_type": "code",
   "execution_count": 54,
   "metadata": {},
   "outputs": [
    {
     "name": "stdout",
     "output_type": "stream",
     "text": [
      "name: Hawkins, Derek\n",
      "Email: derek@codingtemple.com\n",
      "Phone: (555) 555-5555\n",
      "Job: Teacher, Coding Temple\n",
      "Twitter: @derekhawkins\n",
      "\n",
      "\n",
      "name: Butz, Ryan\n",
      "Email: ryanb@codingtemple.com\n",
      "Phone: (555) 555-5543\n",
      "Job: CEO, Coding Temple\n",
      "Twitter: @ryanbutz\n",
      "\n",
      "\n",
      "name: Obama, Barack\n",
      "Email: president.44@us.gov\n",
      "Phone: 555 555-5551\n",
      "Job: President, United States of America\n",
      "Twitter: @potus44\n",
      "\n",
      "\n",
      "name: Patel, Ripal\n",
      "Email: ripalp@codingtemple.com\n",
      "Phone: (555) 555-5553\n",
      "Job: Teacher, Coding Temple\n",
      "Twitter: @ripalp\n",
      "\n",
      "\n",
      "name: Vader, Darth\n",
      "Email: darth-vader@empire.gov\n",
      "Phone: (555) 555-4444\n",
      "Job: Sith Lord, Galactic Empire\n",
      "Twitter: @darthvader\n",
      "\n",
      "\n"
     ]
    }
   ],
   "source": [
    "for i in info.finditer(data):\n",
    "    print(f\"name: {i.group('name')}\\nEmail: {i.group('email')}\\nPhone: {i.group('phone')}\\nJob: {i.group('job')}\\nTwitter: {i.group('twitter')}\\n\\n\")"
   ]
  },
  {
   "cell_type": "code",
   "execution_count": null,
   "metadata": {},
   "outputs": [],
   "source": []
  }
 ],
 "metadata": {
  "kernelspec": {
   "display_name": "Python 3",
   "language": "python",
   "name": "python3"
  },
  "language_info": {
   "codemirror_mode": {
    "name": "ipython",
    "version": 3
   },
   "file_extension": ".py",
   "mimetype": "text/x-python",
   "name": "python",
   "nbconvert_exporter": "python",
   "pygments_lexer": "ipython3",
   "version": "3.7.4"
  }
 },
 "nbformat": 4,
 "nbformat_minor": 2
}
